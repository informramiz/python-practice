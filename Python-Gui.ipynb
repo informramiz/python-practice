{
 "cells": [
  {
   "cell_type": "markdown",
   "metadata": {},
   "source": [
    "# Python GUI"
   ]
  },
  {
   "cell_type": "code",
   "execution_count": null,
   "metadata": {
    "collapsed": false
   },
   "outputs": [],
   "source": [
    "import tkinter as tk\n",
    "from PIL import Image\n",
    "from PIL import ImageTk\n",
    "import cv2\n"
   ]
  },
  {
   "cell_type": "code",
   "execution_count": null,
   "metadata": {
    "collapsed": false
   },
   "outputs": [],
   "source": [
    "top = tk.Tk()\n",
    "\n",
    "# user_input = ''\n",
    "# #add widgets here\n",
    "# def onClick():\n",
    "#     print(\"User input: \", user_input)\n",
    "    \n",
    "# B = tk.Button(top, width=10, height=10, text=\"hello\", fg='blue', command=helloCallback)\n",
    "# B.pack()\n",
    "\n",
    "canvas = tk.Canvas(top, width=300, height=250)\n",
    "\n",
    "#draw an arc\n",
    "coord = 10, 50, 240, 210\n",
    "arc = canvas.create_arc(coord, start=0, extent=150, fill='red')\n",
    "\n",
    "#draw a line\n",
    "line = canvas.create_line(0,0, 50, 50, fill='red')\n",
    "\n",
    "filename = ImageTk.PhotoImage(file = \"icons/red_circle1.png\")\n",
    "image = canvas.create_image(50, 50, anchor=tk.NE, image=filename)\n",
    "\n",
    "#draw a line\n",
    "line = canvas.create_oval(0,0, 50, 50, fill='red')\n",
    "canvas.pack()\n",
    "\n",
    "# label = tk.Label(top, text=\"User name\")\n",
    "# label.pack(side=tk.LEFT)\n",
    "\n",
    "# scrollbar = tk.Scrollbar(top)\n",
    "# scrollbar.pack(side=tk.RIGHT, fill=tk.X)\n",
    "\n",
    "# entry = tk.Entry(top, bd=5, textvariable=user_input, xscrollcommand=scrollbar.set)\n",
    "# entry.pack(side=tk.RIGHT, fill=tk.BOTH)\n",
    "\n",
    "# scrollbar.config(command=entry.xview)\n",
    "\n",
    "top.mainloop()"
   ]
  },
  {
   "cell_type": "markdown",
   "metadata": {},
   "source": [
    "## Loading Image with OpenCV into Tk"
   ]
  },
  {
   "cell_type": "code",
   "execution_count": null,
   "metadata": {
    "collapsed": false
   },
   "outputs": [],
   "source": [
    "#define a command callback function to be called when an event is triggered\n",
    "def detect_edges():\n",
    "    #reference to the frames to hold images\n",
    "    global frame_left, frame_right\n",
    "    \n",
    "    #load the image and convert it to grayscale\n",
    "    image_path = 'data/test1.jpg'\n",
    "    image = cv2.imread(image_path)\n",
    "    \n",
    "    #opencv loads images into BRG color space while libraries like PIL represents them \n",
    "    #in RGB color space\n",
    "    image = cv2.cvtColor(image, cv2.COLOR_BGR2RGB)\n",
    "    \n",
    "    #conver image to gray scale as most of OpenCV operations are performed in gray scale. \n",
    "    gray_image = cv2.cvtColor(image, cv2.COLOR_RGB2GRAY)\n",
    "    \n",
    "    #detect edges\n",
    "    edge_image = cv2.Canny(image, 50, 100)\n",
    "    \n",
    "    #convert images to PIL image format which is needed for Tkinter library\n",
    "    image_pil = Image.fromarray(image)\n",
    "    edge_pil = Image.fromarray(edge_image)\n",
    "    \n",
    "    #conver images to Tkinter format from PIL format\n",
    "    image_tk = ImageTk.PhotoImage(image_pil)\n",
    "    edge_tk = ImageTk.PhotoImage(edge_pil)\n",
    "    \n",
    "    #if image UI frames are not initialized then intialize them\n",
    "    if(frame_left is None or frame_right is None):\n",
    "        #make frame_left a TK label with image\n",
    "        frame_left = tk.Label(image=image_tk)\n",
    "        #this is to avoid garbage collection\n",
    "        frame_left.image = image_tk\n",
    "        frame_left.pack(side=\"left\", padx=15, pady=15)\n",
    "        \n",
    "        #same for right frame\n",
    "        frame_right = tk.Label(image=edge_tk)\n",
    "        frame_right.image = edge_tk\n",
    "        frame_right.pack(side=\"right\", padx=15, pady=15)\n",
    "    else: #image UI frames are already initialized so just update them with new images\n",
    "        frame_left.configure(image=image_tk)\n",
    "        frame_left.image = image_tk\n",
    "        \n",
    "        frame_right.configure(image=edge_tk)\n",
    "        frame_right.image = edge_tk\n",
    "        \n",
    "        \n",
    "#initialize the UI toolkit \n",
    "root = tk.Tk()\n",
    "root.resizable(width=True, height=True)\n",
    "\n",
    "#initialize left and right frames\n",
    "frame_left = None\n",
    "frame_right = None\n",
    "\n",
    "#initialize a button to start edge detection process and when triggered \n",
    "btn = tk.Button(root, text=\"Show frames\", command=detect_edges)\n",
    "btn.pack(side=\"bottom\", fill=\"both\", expand=\"yes\", padx=15, pady=15)\n",
    "\n",
    "#star the UI loop\n",
    "root.mainloop()"
   ]
  },
  {
   "cell_type": "markdown",
   "metadata": {},
   "source": [
    "## Frame Layout"
   ]
  },
  {
   "cell_type": "code",
   "execution_count": null,
   "metadata": {
    "collapsed": false
   },
   "outputs": [],
   "source": [
    "import tkinter as tk\n",
    "from PIL import Image\n",
    "from PIL import ImageTk\n",
    "import cv2\n",
    "\n",
    "def read_images():\n",
    "    image = cv2.imread('data/test1.jpg')\n",
    "    \n",
    "    #conver to RGB space and to gray scale\n",
    "    image = cv2.cvtColor(image, cv2.COLOR_BGR2RGB)\n",
    "    gray = cv2.cvtColor(image, cv2.COLOR_RGB2GRAY)\n",
    "    \n",
    "    image = Image.fromarray(image)\n",
    "    gray = Image.fromarray(gray)\n",
    "    \n",
    "    image_tk = ImageTk.PhotoImage(image)\n",
    "    gray_tk = ImageTk.PhotoImage(gray)\n",
    "    \n",
    "    return image_tk, gray_tk\n",
    "\n",
    "def callback(event):\n",
    "    print('hello')\n",
    "    \n",
    "def validate(new_text):\n",
    "    print(\"User entered: \", new_text)\n",
    "    return True\n",
    "\n",
    "def loadGui(root):\n",
    "    image_tk, gray_tk = read_images()\n",
    "    \n",
    "    #####left screen\n",
    "    #frame to hold user video, a circle to focus on\n",
    "    left_frame = tk.Frame(root)\n",
    "    left_frame.pack(side=\"left\")\n",
    "\n",
    "    left_label = tk.Label(left_frame, image=image_tk)\n",
    "    left_label.image = image_tk\n",
    "    left_label.pack(side=\"left\", fill=\"both\", expand=\"yes\", padx=10, pady=10)\n",
    "    \n",
    "    #user question/answer window\n",
    "    user_frame = tk.Frame(left_frame, bg='black')\n",
    "    user_frame.place(x=30, y=150)\n",
    "    \n",
    "    #user question label\n",
    "    label_text = tk.StringVar()\n",
    "    label_text.set(\"Remember something\")\n",
    "    question_label = tk.Label(user_frame, anchor=\"center\", textvariable=label_text, bg='black', bd=0, fg='white')\n",
    "    question_label.bind(\"<Button-1>\", callback)\n",
    "    question_label.pack(side='top')\n",
    "    \n",
    "    #user answer label\n",
    "    #wrap our validate method by registering with parent widget\n",
    "    vcmd = user_frame.register(validate)\n",
    "    entry = tk.Entry(user_frame, bg='black', bd=0, fg='white', validate='key', validatecommand=(vcmd, '%P'))\n",
    "    entry.pack(side='top')\n",
    "    \n",
    "    ######right screen\n",
    "    #frame to hold neural network response and current state\n",
    "    right_frame = tk.Frame(root)\n",
    "    right_frame.pack(side=\"right\")\n",
    "\n",
    "    right_label = tk.Label(right_frame, image=gray_tk)\n",
    "    right_label.image = gray_tk\n",
    "    right_label.pack(side=\"right\", fill=\"both\", expand=\"yes\", padx=10, pady=10)\n",
    "    \n",
    "\n",
    "\n",
    "#initialize the UI toolkit\n",
    "root = tk.Tk()\n",
    "# root.resizable(width=True, height=True)\n",
    "# root.geometry(\"550x300+300+150\")\n",
    "\n",
    "loadGui(root)\n",
    "\n",
    "#start the UI loop\n",
    "root.mainloop()"
   ]
  },
  {
   "cell_type": "markdown",
   "metadata": {
    "collapsed": true
   },
   "source": [
    "## Theading "
   ]
  },
  {
   "cell_type": "code",
   "execution_count": null,
   "metadata": {
    "collapsed": false
   },
   "outputs": [],
   "source": [
    "import threading\n",
    "import time\n",
    "\n",
    "class MyThread(threading.Thread):\n",
    "    def __init__(self):\n",
    "        threading.Thread.__init__(self)\n",
    "        \n",
    "    def run(self):\n",
    "        print(\"Thread started\")\n",
    "        time.sleep(5)\n",
    "        print(\"Thread ended\")\n",
    "        \n",
    "myThread = MyThread()\n",
    "myThread.start()\n",
    "\n",
    "#wait for myThread to finish\n",
    "myThread.join()\n",
    "\n",
    "print(\"Main Thread exited\")"
   ]
  },
  {
   "cell_type": "markdown",
   "metadata": {},
   "source": [
    "## Threading and Tkinter"
   ]
  },
  {
   "cell_type": "code",
   "execution_count": 2,
   "metadata": {
    "collapsed": false
   },
   "outputs": [
    {
     "name": "stdout",
     "output_type": "stream",
     "text": [
      "Image read\n"
     ]
    }
   ],
   "source": [
    "import threading\n",
    "import tkinter as tk\n",
    "from PIL import Image\n",
    "from PIL import ImageTk\n",
    "import cv2\n",
    "import queue\n",
    "\n",
    "\n",
    "#callback queue common to background thread and main thread\n",
    "callback_queue = queue.Queue()\n",
    "\n",
    "class ImageThread(threading.Thread):\n",
    "    def __init__(self):\n",
    "        threading.Thread.__init__(self)\n",
    "        self.image_path = \"data/test1.jpg\"\n",
    "        \n",
    "    def run(self):\n",
    "        image = cv2.imread(self.image_path)\n",
    "        image = cv2.cvtColor(image, cv2.COLOR_BGR2RGB)\n",
    "\n",
    "        print(\"Image read\")\n",
    "        image = Image.fromarray(image)\n",
    "        \n",
    "        #put \"update_on_main_thread(self, image)\" function to Queue for main thread \n",
    "        #to get it from queue and execute it\n",
    "        callback_queue.put((lambda: self.update_on_main_thread(image)))\n",
    "        \n",
    "    def update_on_main_thread(self, image):\n",
    "        image_tk = ImageTk.PhotoImage(image)\n",
    "        #try updating UI from here\n",
    "        label.configure(image=image_tk)\n",
    "        label.image = image_tk\n",
    "        \n",
    "def run_on_main_thread(root):\n",
    "    try:\n",
    "        callback = callback_queue.get()\n",
    "        callback()\n",
    "    except queue.Empty:\n",
    "        root.update_idletasks()\n",
    "        root.after(100, run_on_main_thread, root)\n",
    "        \n",
    "\n",
    "#initialize the UI toolkit\n",
    "root = tk.Tk()\n",
    "\n",
    "label = tk.Label(root)\n",
    "label.pack(side=\"left\", fill=\"both\", expand=\"yes\", padx=10, pady=10)\n",
    "\n",
    "imgThread = ImageThread()\n",
    "imgThread.start()\n",
    "        \n",
    "run_on_main_thread(root)\n",
    "#start UI mainloop\n",
    "root.mainloop()"
   ]
  },
  {
   "cell_type": "code",
   "execution_count": null,
   "metadata": {
    "collapsed": true
   },
   "outputs": [],
   "source": []
  }
 ],
 "metadata": {
  "anaconda-cloud": {},
  "kernelspec": {
   "display_name": "Python 3",
   "language": "python",
   "name": "python3"
  },
  "language_info": {
   "codemirror_mode": {
    "name": "ipython",
    "version": 3
   },
   "file_extension": ".py",
   "mimetype": "text/x-python",
   "name": "python",
   "nbconvert_exporter": "python",
   "pygments_lexer": "ipython3",
   "version": "3.5.2"
  },
  "widgets": {
   "state": {},
   "version": "1.1.2"
  }
 },
 "nbformat": 4,
 "nbformat_minor": 2
}
