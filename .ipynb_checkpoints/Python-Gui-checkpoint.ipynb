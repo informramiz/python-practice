{
 "cells": [
  {
   "cell_type": "markdown",
   "metadata": {},
   "source": [
    "# Python GUI"
   ]
  },
  {
   "cell_type": "code",
   "execution_count": 13,
   "metadata": {
    "collapsed": false
   },
   "outputs": [],
   "source": [
    "import tkinter as tk\n",
    "from PIL import Image\n",
    "from PIL import ImageTk\n",
    "import cv2\n"
   ]
  },
  {
   "cell_type": "code",
   "execution_count": 22,
   "metadata": {
    "collapsed": false
   },
   "outputs": [],
   "source": [
    "top = tk.Tk()\n",
    "\n",
    "# user_input = ''\n",
    "# #add widgets here\n",
    "# def onClick():\n",
    "#     print(\"User input: \", user_input)\n",
    "    \n",
    "# B = tk.Button(top, width=10, height=10, text=\"hello\", fg='blue', command=helloCallback)\n",
    "# B.pack()\n",
    "\n",
    "canvas = tk.Canvas(top, bg='blue', width=300, height=250)\n",
    "\n",
    "#draw an arc\n",
    "coord = 10, 50, 240, 210\n",
    "arc = canvas.create_arc(coord, start=0, extent=150, fill='red')\n",
    "\n",
    "#draw a line\n",
    "line = canvas.create_line(0,0, 50, 50, fill='red')\n",
    "\n",
    "#draw a line\n",
    "line = canvas.create_oval(0,0, 50, 50, fill='red')\n",
    "canvas.pack()\n",
    "\n",
    "# label = tk.Label(top, text=\"User name\")\n",
    "# label.pack(side=tk.LEFT)\n",
    "\n",
    "# scrollbar = tk.Scrollbar(top)\n",
    "# scrollbar.pack(side=tk.RIGHT, fill=tk.X)\n",
    "\n",
    "# entry = tk.Entry(top, bd=5, textvariable=user_input, xscrollcommand=scrollbar.set)\n",
    "# entry.pack(side=tk.RIGHT, fill=tk.BOTH)\n",
    "\n",
    "# scrollbar.config(command=entry.xview)\n",
    "\n",
    "top.mainloop()"
   ]
  },
  {
   "cell_type": "markdown",
   "metadata": {},
   "source": [
    "## Loading Image with OpenCV into Tk"
   ]
  },
  {
   "cell_type": "code",
   "execution_count": 27,
   "metadata": {
    "collapsed": false
   },
   "outputs": [],
   "source": [
    "#define a command callback function to be called when an event is triggered\n",
    "def detect_edges():\n",
    "    #reference to the frames to hold images\n",
    "    global frame_left, frame_right\n",
    "    \n",
    "    #load the image and convert it to grayscale\n",
    "    image_path = 'data/test1.jpg'\n",
    "    image = cv2.imread(image_path)\n",
    "    \n",
    "    #opencv loads images into BRG color space while libraries like PIL represents them \n",
    "    #in RGB color space\n",
    "    image = cv2.cvtColor(image, cv2.COLOR_BGR2RGB)\n",
    "    \n",
    "    #conver image to gray scale as most of OpenCV operations are performed in gray scale. \n",
    "    gray_image = cv2.cvtColor(image, cv2.COLOR_RGB2GRAY)\n",
    "    \n",
    "    #detect edges\n",
    "    edge_image = cv2.Canny(image, 50, 100)\n",
    "    \n",
    "    #convert images to PIL image format which is needed for Tkinter library\n",
    "    image_pil = Image.fromarray(image)\n",
    "    edge_pil = Image.fromarray(edge_image)\n",
    "    \n",
    "    #conver images to Tkinter format from PIL format\n",
    "    image_tk = ImageTk.PhotoImage(image_pil)\n",
    "    edge_tk = ImageTk.PhotoImage(edge_pil)\n",
    "    \n",
    "    #if image UI frames are not initialized then intialize them\n",
    "    if(frame_left is None or frame_right is None):\n",
    "        #make frame_left a TK label with image\n",
    "        frame_left = tk.Label(image=image_tk)\n",
    "        #this is to avoid garbage collection\n",
    "        frame_left.image = image_tk\n",
    "        frame_left.pack(side=\"left\", padx=15, pady=15)\n",
    "        \n",
    "        #same for right frame\n",
    "        frame_right = tk.Label(image=edge_tk)\n",
    "        frame_right.image = edge_tk\n",
    "        frame_right.pack(side=\"right\", padx=15, pady=15)\n",
    "    else: #image UI frames are already initialized so just update them with new images\n",
    "        frame_left.configure(image=image_tk)\n",
    "        frame_left.image = image_tk\n",
    "        \n",
    "        frame_right.configure(image=edge_tk)\n",
    "        frame_right.image = edge_tk\n",
    "        \n",
    "        \n",
    "#initialize the UI toolkit \n",
    "root = tk.Tk()\n",
    "root.resizable(width=True, height=True)\n",
    "\n",
    "#initialize left and right frames\n",
    "frame_left = None\n",
    "frame_right = None\n",
    "\n",
    "#initialize a button to start edge detection process and when triggered \n",
    "btn = tk.Button(root, text=\"Show frames\", command=detect_edges)\n",
    "btn.pack(side=\"bottom\", fill=\"both\", expand=\"yes\", padx=15, pady=15)\n",
    "\n",
    "#star the UI loop\n",
    "root.mainloop()"
   ]
  },
  {
   "cell_type": "markdown",
   "metadata": {},
   "source": [
    "## Frame Layout"
   ]
  },
  {
   "cell_type": "code",
   "execution_count": null,
   "metadata": {
    "collapsed": true
   },
   "outputs": [],
   "source": [
    "#initialize the UI toolkit\n",
    "root = tk.Tk()\n",
    "# root.resizable(width=True, height=True)\n",
    "\n",
    "#frame to hold user video, a circle to focus on\n",
    "left_frame = tk.Frame(root)\n",
    "left_frame.pack(side=\"left\")\n",
    "\n",
    "left_label = tk.Label(left_frame, text=\"Hello\")\n",
    "left_label.pack(side=\"left\")\n",
    "\n",
    "#frame to hold neural network response and current state\n",
    "right_frame = tk.Frame(root)\n",
    "right_frame.pack(side=\"right\", fill=\"both\", expand=\"yes\", padx=10, pady=10)\n",
    "\n",
    "left_label = tk.Label(frame_right, text=\"World\")\n",
    "left_label.pack(side=\"right\", fill=\"both\", expand=\"yes\", padx=10, pady=10)\n",
    "\n",
    "#start the UI loop\n",
    "root.mainloop()"
   ]
  },
  {
   "cell_type": "code",
   "execution_count": null,
   "metadata": {
    "collapsed": true
   },
   "outputs": [],
   "source": []
  }
 ],
 "metadata": {
  "kernelspec": {
   "display_name": "Python 3",
   "language": "python",
   "name": "python3"
  },
  "language_info": {
   "codemirror_mode": {
    "name": "ipython",
    "version": 3
   },
   "file_extension": ".py",
   "mimetype": "text/x-python",
   "name": "python",
   "nbconvert_exporter": "python",
   "pygments_lexer": "ipython3",
   "version": "3.5.2"
  },
  "widgets": {
   "state": {},
   "version": "1.1.2"
  }
 },
 "nbformat": 4,
 "nbformat_minor": 2
}
