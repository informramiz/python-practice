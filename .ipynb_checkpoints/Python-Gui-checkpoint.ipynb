{
 "cells": [
  {
   "cell_type": "code",
   "execution_count": 15,
   "metadata": {
    "collapsed": false
   },
   "outputs": [],
   "source": [
    "import tkinter as tk"
   ]
  },
  {
   "cell_type": "code",
   "execution_count": 25,
   "metadata": {
    "collapsed": false
   },
   "outputs": [],
   "source": [
    "top = tk.Tk()\n",
    "\n",
    "#add widgets here\n",
    "def helloCallback():\n",
    "    print(\"Hello\")\n",
    "    \n",
    "# B = tk.Button(top, width=10, height=10, text=\"hello\", fg='blue', command=helloCallback)\n",
    "# B.pack()\n",
    "\n",
    "canvas = tk.Canvas(top, bg='blue', width=300, height=250)\n",
    "\n",
    "#draw an arc\n",
    "coord = 10, 50, 240, 210\n",
    "arc = canvas.create_arc(coord, start=0, extent=150, fill='red')\n",
    "\n",
    "canvas.pack()\n",
    "top.mainloop()"
   ]
  },
  {
   "cell_type": "code",
   "execution_count": null,
   "metadata": {
    "collapsed": true
   },
   "outputs": [],
   "source": []
  }
 ],
 "metadata": {
  "kernelspec": {
   "display_name": "Python 3",
   "language": "python",
   "name": "python3"
  },
  "language_info": {
   "codemirror_mode": {
    "name": "ipython",
    "version": 3
   },
   "file_extension": ".py",
   "mimetype": "text/x-python",
   "name": "python",
   "nbconvert_exporter": "python",
   "pygments_lexer": "ipython3",
   "version": "3.5.2"
  },
  "widgets": {
   "state": {},
   "version": "1.1.2"
  }
 },
 "nbformat": 4,
 "nbformat_minor": 2
}
